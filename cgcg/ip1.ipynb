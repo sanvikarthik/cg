{
 "cells": [
  {
   "cell_type": "code",
   "execution_count": 2,
   "metadata": {},
   "outputs": [
    {
     "ename": "AttributeError",
     "evalue": "'NoneType' object has no attribute 'shape'",
     "output_type": "error",
     "traceback": [
      "\u001b[1;31m---------------------------------------------------------------------------\u001b[0m",
      "\u001b[1;31mAttributeError\u001b[0m                            Traceback (most recent call last)",
      "Cell \u001b[1;32mIn[2], line 3\u001b[0m\n\u001b[0;32m      1\u001b[0m \u001b[38;5;28;01mimport\u001b[39;00m \u001b[38;5;21;01mcv2\u001b[39;00m\n\u001b[0;32m      2\u001b[0m img1 \u001b[38;5;241m=\u001b[39m cv2\u001b[38;5;241m.\u001b[39mimread(\u001b[38;5;124m'\u001b[39m\u001b[38;5;124mD:/images/cat.png\u001b[39m\u001b[38;5;124m'\u001b[39m)\n\u001b[1;32m----> 3\u001b[0m h, w, channels \u001b[38;5;241m=\u001b[39m \u001b[43mimg1\u001b[49m\u001b[38;5;241;43m.\u001b[39;49m\u001b[43mshape\u001b[49m \u001b[38;5;66;03m#rows 286, col 224\u001b[39;00m\n\u001b[0;32m      4\u001b[0m half \u001b[38;5;241m=\u001b[39m w\u001b[38;5;241m/\u001b[39m\u001b[38;5;241m/\u001b[39m\u001b[38;5;241m2\u001b[39m \u001b[38;5;66;03m# cols    112\u001b[39;00m\n\u001b[0;32m      5\u001b[0m half2 \u001b[38;5;241m=\u001b[39m h\u001b[38;5;241m/\u001b[39m\u001b[38;5;241m/\u001b[39m\u001b[38;5;241m2\u001b[39m \u001b[38;5;66;03m# rows     143\u001b[39;00m\n",
      "\u001b[1;31mAttributeError\u001b[0m: 'NoneType' object has no attribute 'shape'"
     ]
    }
   ],
   "source": [
    "import cv2\n",
    "img1 = cv2.imread('D:/images/cat.jpg')\n",
    "h, w, channels = img1.shape #rows 286, col 224\n",
    "half = w//2 # cols    112\n",
    "half2 = h//2 # rows     143\n",
    "print(h,w,half,half2)\n",
    "left_top = img1[:half2, :half]   # img1[0:143,0:112]\n",
    "right_top = img1[:half2:, half:] # img1 [0:143,112:224]\n",
    "left_b  = img1[half2:, :half] # img1[143:286,0:112]\n",
    "right_b = img1[half2:,half:] # img1[143:286,112:224]\n"
   ]
  },
  {
   "cell_type": "code",
   "execution_count": null,
   "metadata": {},
   "outputs": [],
   "source": [
    "from matplotlib import pyplot as plt\n",
    "#Show the image with matplotlib\n",
    "plt.subplot(2,2,1)\n",
    "plt.imshow(left_top)\n",
    "plt.subplot(2,2,2)\n",
    "plt.imshow(right_top)\n",
    "plt.subplot(2,2,3)\n",
    "plt.imshow(left_b)\n",
    "plt.subplot(2,2,4)\n",
    "plt.imshow(right_b)\n",
    "plt.show()\n"
   ]
  }
 ],
 "metadata": {
  "kernelspec": {
   "display_name": "env",
   "language": "python",
   "name": "python3"
  },
  "language_info": {
   "codemirror_mode": {
    "name": "ipython",
    "version": 3
   },
   "file_extension": ".py",
   "mimetype": "text/x-python",
   "name": "python",
   "nbconvert_exporter": "python",
   "pygments_lexer": "ipython3",
   "version": "3.12.4"
  }
 },
 "nbformat": 4,
 "nbformat_minor": 2
}
