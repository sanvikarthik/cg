{
 "cells": [
  {
   "cell_type": "code",
   "execution_count": null,
   "metadata": {},
   "outputs": [],
   "source": [
    "import numpy as np\n",
    "import cv2\n",
    "from matplotlib import pyplot as plt"
   ]
  },
  {
   "cell_type": "code",
   "execution_count": null,
   "metadata": {},
   "outputs": [],
   "source": [
    "img1= cv2.imread(\"cat.png\")\n",
    "rows,cols,_=img1.shape\n",
    "M=np([[0,1,100],[1,0,50]])\n",
    "t_img=cv2.warpAffine(img1,M,(rows,cols))\n",
    "h_img=cv2.resize(img1,(0,0),fx=0.5,fy=0.5)\n",
    "w_img=cv2.resize(img1,(0,0),fx=2,fy=2)\n",
    "\n",
    "cr=(rows/2,cols/2)\n",
    "M=cvs2.getRotationMatrix2D(cr,90,1)\n",
    "r_img=cv2.warpAffine(img1,M,(rows+100,cols+100))"
   ]
  },
  {
   "cell_type": "code",
   "execution_count": null,
   "metadata": {},
   "outputs": [],
   "source": [
    "plt.subplot(1,4,1)\n",
    "plt.imshow(t_img)\n",
    "plt.subplot(1,4,2)\n",
    "plt.imshow(h_img)\n",
    "plt.subplot(1,4,3)\n",
    "plt.imshow(w_img)\n",
    "plt.subplot(1,4,4)\n",
    "plt.imshow(r_img)"
   ]
  }
 ],
 "metadata": {
  "language_info": {
   "name": "python"
  }
 },
 "nbformat": 4,
 "nbformat_minor": 2
}
